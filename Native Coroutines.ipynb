{
 "cells": [
  {
   "cell_type": "code",
   "execution_count": 1,
   "metadata": {
    "collapsed": true
   },
   "outputs": [],
   "source": [
    "import inspect\n",
    "import trio"
   ]
  },
  {
   "cell_type": "markdown",
   "metadata": {},
   "source": [
    "Let's write out own event loop to understand how tings works."
   ]
  },
  {
   "cell_type": "markdown",
   "metadata": {},
   "source": [
    "first let's redefine print to print with some indentation"
   ]
  },
  {
   "cell_type": "code",
   "execution_count": 90,
   "metadata": {
    "collapsed": true
   },
   "outputs": [],
   "source": [
    "import builtins\n",
    "level = 0\n",
    "\n",
    "def print(*args, **kwargs):\n",
    "    global level\n",
    "    return builtins.print('    '*level, *args, **kwargs)"
   ]
  },
  {
   "cell_type": "code",
   "execution_count": 91,
   "metadata": {},
   "outputs": [
    {
     "name": "stdout",
     "output_type": "stream",
     "text": [
      " hey\n"
     ]
    }
   ],
   "source": [
    "print('hey')"
   ]
  },
  {
   "cell_type": "code",
   "execution_count": 94,
   "metadata": {},
   "outputs": [
    {
     "name": "stdout",
     "output_type": "stream",
     "text": [
      "     ho\n"
     ]
    }
   ],
   "source": [
    "level = 1\n",
    "print('ho')\n",
    "level = 0 "
   ]
  },
  {
   "cell_type": "markdown",
   "metadata": {},
   "source": [
    "Let's make a decorator that increase/decrease the indentation level of the function it decorate:"
   ]
  },
  {
   "cell_type": "code",
   "execution_count": 195,
   "metadata": {},
   "outputs": [],
   "source": [
    "def aindent(fun):\n",
    "    if inspect.iscoroutinefunction(fun):\n",
    "        async def _wrapper(*args, **kwargs):\n",
    "            global level\n",
    "            print('Entering ', fun.__name__)\n",
    "            level +=1\n",
    "            res = await fun(*args, **kwargs)\n",
    "            level -=1\n",
    "            print('Leaving ', fun.__name__)\n",
    "            return res\n",
    "    else:\n",
    "        # same without async/await\n",
    "        def _wrapper(*args, **kwargs):\n",
    "            global level\n",
    "            print('Entering ', fun.__name__)\n",
    "            level +=1\n",
    "            res = fun(*args, **kwargs)\n",
    "            level -=1\n",
    "            print('Leaving ', fun.__name__)\n",
    "            return res\n",
    "    return _wrapper"
   ]
  },
  {
   "cell_type": "code",
   "execution_count": 196,
   "metadata": {},
   "outputs": [
    {
     "name": "stdout",
     "output_type": "stream",
     "text": [
      "                 Entering  toplevel\n",
      "                     > top\n",
      "                     Entering  bottom\n",
      "                         >bottom\n",
      "                     Leaving  bottom\n",
      "                     < top\n",
      "                 Leaving  toplevel\n"
     ]
    }
   ],
   "source": [
    "@aindent\n",
    "def toplevel():\n",
    "    print('> top')\n",
    "    bottom()\n",
    "    print('< top')\n",
    "\n",
    "@aindent\n",
    "def bottom():\n",
    "    print('>bottom')\n",
    "\n",
    "toplevel()"
   ]
  },
  {
   "cell_type": "markdown",
   "metadata": {},
   "source": [
    "One misconception (that was up until recently mine), is that most async function call can by asynchronous meaning that every await in your code may be a task switch. \n",
    "\n",
    "That is to say in the following, regardless of `async_func` the code **could** be interrupted between assigning to `a`  and assigning to `b`\n",
    "\n",
    "```python\n",
    "a = 1\n",
    "b = await async_func(a)\n",
    "```\n",
    "\n",
    "That's not the case, and we'll see that only generator based coroutine can be broken schedule points, and while `async_func` can be pause in the middle of it's execution it's only because it does (maybe indirrectly) call such a function.\n",
    "\n",
    "\n"
   ]
  },
  {
   "cell_type": "markdown",
   "metadata": {},
   "source": [
    "## A primer on generator\n",
    "\n",
    "We'll want to use generator/coroutines to cut our work into tasks we can interrupt, we don't want to `yield` results, but that will help. \n",
    "\n",
    "Let's try to buildsuch an example and then manually advance it."
   ]
  },
  {
   "cell_type": "code",
   "execution_count": 197,
   "metadata": {},
   "outputs": [],
   "source": [
    "@aindent\n",
    "async def login(username, pwdhash):\n",
    "    print('starting login.. check existence')\n",
    "    exists = await user_exists(username)\n",
    "    print('exists:', exists)\n",
    "    if not exists:\n",
    "        print('Sign in first')\n",
    "        return\n",
    "    print('get hash')\n",
    "    stored_hash =  await get_hash_for(username)\n",
    "    if stored_hash  == pwdhash:\n",
    "        print('Come in')\n",
    "        return\n",
    "    print('wrong pwd')\n",
    "    return\n",
    "    \n",
    "\n",
    "@aindent    \n",
    "async def user_exists(username):\n",
    "    if len(username) <= 8:\n",
    "        print('User exists  !')\n",
    "        return True\n",
    "    print(\"Your name don't ring a bell.\")\n",
    "    return False\n",
    "\n",
    "@aindent\n",
    "async def get_hash_for(username):\n",
    "    return 'abcd'"
   ]
  },
  {
   "cell_type": "code",
   "execution_count": 198,
   "metadata": {},
   "outputs": [
    {
     "data": {
      "text/plain": [
       "<coroutine object aindent.<locals>._wrapper at 0x10a74e990>"
      ]
     },
     "execution_count": 198,
     "metadata": {},
     "output_type": "execute_result"
    }
   ],
   "source": [
    "coro = login('matthias', 'password')\n",
    "coro "
   ]
  },
  {
   "cell_type": "markdown",
   "metadata": {},
   "source": [
    "So we got a coroutine (think of it as a generator), nothing executeed yet. \n",
    "We could call `next()` on a generator, but we actually need to call `.send()` here and send `None` tp start.\n",
    "Everytime the coroutine can stop it will and will yield a value. It will raise `StopIteration` as soon  as it is done\n",
    "We'll call `.send()` on it until it raises."
   ]
  },
  {
   "cell_type": "code",
   "execution_count": 199,
   "metadata": {},
   "outputs": [
    {
     "name": "stdout",
     "output_type": "stream",
     "text": [
      "                 Entering  login\n",
      "                     starting login.. check existence\n",
      "                     Entering  user_exists\n",
      "                         User exists  !\n",
      "                     Leaving  user_exists\n",
      "                     exists: True\n",
      "                     get hash\n",
      "                     Entering  get_hash_for\n",
      "                     Leaving  get_hash_for\n",
      "                     wrong pwd\n",
      "                 Leaving  login\n"
     ]
    },
    {
     "ename": "StopIteration",
     "evalue": "",
     "output_type": "error",
     "traceback": [
      "\u001b[0;31m---------------------------------------------------------------------------\u001b[0m",
      "\u001b[0;31mStopIteration\u001b[0m                             Traceback (most recent call last)",
      "\u001b[0;32m<ipython-input-199-7a7656e80eea>\u001b[0m in \u001b[0;36m<module>\u001b[0;34m()\u001b[0m\n\u001b[0;32m----> 1\u001b[0;31m \u001b[0mcoro\u001b[0m\u001b[0;34m.\u001b[0m\u001b[0msend\u001b[0m\u001b[0;34m(\u001b[0m\u001b[0;32mNone\u001b[0m\u001b[0;34m)\u001b[0m\u001b[0;34m\u001b[0m\u001b[0m\n\u001b[0m",
      "\u001b[0;31mStopIteration\u001b[0m: "
     ]
    }
   ],
   "source": [
    "coro.send(None)"
   ]
  },
  {
   "cell_type": "markdown",
   "metadata": {},
   "source": [
    "Hum, it did not pause. That is less than ideal... The reason is you need to use generator base coroutine functions to pause your work, but you should not worry, usually they are provided (and should be provided) y your io library (trio, curio, asyncio...) Let's create our first: `interrupt` that does nothing but pause the execution when it is awaited:"
   ]
  },
  {
   "cell_type": "code",
   "execution_count": 206,
   "metadata": {
    "collapsed": true
   },
   "outputs": [],
   "source": [
    "\n",
    "@types.coroutine\n",
    "def interrupt():\n",
    "    print('start interrupt')\n",
    "    yield 'INTERRUPT'\n",
    "    print('end interrupt')"
   ]
  },
  {
   "cell_type": "code",
   "execution_count": 207,
   "metadata": {},
   "outputs": [
    {
     "name": "stdout",
     "output_type": "stream",
     "text": [
      "                 start interrupt\n",
      "                 ====\n",
      "                 end interrupt\n"
     ]
    },
    {
     "ename": "StopIteration",
     "evalue": "",
     "output_type": "error",
     "traceback": [
      "\u001b[0;31m---------------------------------------------------------------------------\u001b[0m",
      "\u001b[0;31mStopIteration\u001b[0m                             Traceback (most recent call last)",
      "\u001b[0;32m<ipython-input-207-bf47a3cef7d9>\u001b[0m in \u001b[0;36m<module>\u001b[0;34m()\u001b[0m\n\u001b[1;32m      4\u001b[0m \u001b[0mcoro\u001b[0m\u001b[0;34m.\u001b[0m\u001b[0msend\u001b[0m\u001b[0;34m(\u001b[0m\u001b[0;32mNone\u001b[0m\u001b[0;34m)\u001b[0m\u001b[0;34m\u001b[0m\u001b[0m\n\u001b[1;32m      5\u001b[0m \u001b[0mprint\u001b[0m\u001b[0;34m(\u001b[0m\u001b[0;34m'===='\u001b[0m\u001b[0;34m)\u001b[0m\u001b[0;34m\u001b[0m\u001b[0m\n\u001b[0;32m----> 6\u001b[0;31m \u001b[0mcoro\u001b[0m\u001b[0;34m.\u001b[0m\u001b[0msend\u001b[0m\u001b[0;34m(\u001b[0m\u001b[0;32mNone\u001b[0m\u001b[0;34m)\u001b[0m\u001b[0;34m\u001b[0m\u001b[0m\n\u001b[0m",
      "\u001b[0;31mStopIteration\u001b[0m: "
     ]
    }
   ],
   "source": [
    "coro = interrupt()\n",
    "coro\n",
    "\n",
    "coro.send(None)\n",
    "print('====')\n",
    "coro.send(None)"
   ]
  },
  {
   "cell_type": "markdown",
   "metadata": {},
   "source": [
    "And... let's pause just before getting hashed password from db:"
   ]
  },
  {
   "cell_type": "code",
   "execution_count": 233,
   "metadata": {
    "collapsed": true
   },
   "outputs": [],
   "source": [
    "@aindent\n",
    "async def login(username, pwdhash):\n",
    "    print('starting login.. check existence')\n",
    "    exists = await user_exists(username)\n",
    "    print('exists:', exists)\n",
    "    if not exists:\n",
    "        print('Sign in first')\n",
    "        return\n",
    "    print('get hash')\n",
    "    res = await interrupt()\n",
    "    print('got: ', res)\n",
    "    stored_hash =  await get_hash_for(username)\n",
    "    for i,(x,y) in enumerate(zip(stored_hash, pwdhash)):\n",
    "        await interrupt()\n",
    "        print('check letter...', i, end='')\n",
    "        if x != y:\n",
    "            print('Nop')\n",
    "            return\n",
    "        else:\n",
    "            print('ok')\n",
    "    print('Come in')\n",
    "    return\n",
    "\n",
    "coro = login('matthias', 'abcd')"
   ]
  },
  {
   "cell_type": "code",
   "execution_count": 234,
   "metadata": {},
   "outputs": [
    {
     "name": "stdout",
     "output_type": "stream",
     "text": [
      "                                 Entering  login\n",
      "                                     starting login.. check existence\n",
      "                                     Entering  user_exists\n",
      "                                         User exists  !\n",
      "                                     Leaving  user_exists\n",
      "                                     exists: True\n",
      "                                     get hash\n",
      "                                     start interrupt\n"
     ]
    },
    {
     "data": {
      "text/plain": [
       "'INTERRUPT'"
      ]
     },
     "execution_count": 234,
     "metadata": {},
     "output_type": "execute_result"
    }
   ],
   "source": [
    "coro.send(None)"
   ]
  },
  {
   "cell_type": "markdown",
   "metadata": {},
   "source": [
    "Yeah ! First we stopped before checking the password. And we got `INTERRUPT`, so we know we called `interrupt` and can switch task. Let's resume for now."
   ]
  },
  {
   "cell_type": "code",
   "execution_count": 235,
   "metadata": {},
   "outputs": [
    {
     "name": "stdout",
     "output_type": "stream",
     "text": [
      "                                     end interrupt\n",
      "                                     got:  None\n",
      "                                     Entering  get_hash_for\n",
      "                                     Leaving  get_hash_for\n",
      "                                     start interrupt\n"
     ]
    },
    {
     "data": {
      "text/plain": [
       "'INTERRUPT'"
      ]
     },
     "execution_count": 235,
     "metadata": {},
     "output_type": "execute_result"
    }
   ],
   "source": [
    "coro.send(None)"
   ]
  },
  {
   "cell_type": "code",
   "execution_count": 236,
   "metadata": {},
   "outputs": [
    {
     "name": "stdout",
     "output_type": "stream",
     "text": [
      "                                     end interrupt\n",
      "                                     check letter... 0                                     ok\n",
      "                                     start interrupt\n",
      "                                     ====\n",
      "                                     end interrupt\n",
      "                                     check letter... 1                                     ok\n",
      "                                     start interrupt\n",
      "                                     ====\n",
      "                                     end interrupt\n",
      "                                     check letter... 2                                     ok\n",
      "                                     start interrupt\n"
     ]
    },
    {
     "data": {
      "text/plain": [
       "'INTERRUPT'"
      ]
     },
     "execution_count": 236,
     "metadata": {},
     "output_type": "execute_result"
    }
   ],
   "source": [
    "coro.send(None)\n",
    "print('====')\n",
    "coro.send(None)\n",
    "print('====')\n",
    "coro.send(None)"
   ]
  },
  {
   "cell_type": "code",
   "execution_count": 237,
   "metadata": {},
   "outputs": [
    {
     "name": "stdout",
     "output_type": "stream",
     "text": [
      "                                     ====\n",
      "                                     end interrupt\n",
      "                                     check letter... 3                                     ok\n",
      "                                     Come in\n",
      "                                 Leaving  login\n"
     ]
    },
    {
     "ename": "StopIteration",
     "evalue": "",
     "output_type": "error",
     "traceback": [
      "\u001b[0;31m---------------------------------------------------------------------------\u001b[0m",
      "\u001b[0;31mStopIteration\u001b[0m                             Traceback (most recent call last)",
      "\u001b[0;32m<ipython-input-237-91b32d69f201>\u001b[0m in \u001b[0;36m<module>\u001b[0;34m()\u001b[0m\n\u001b[1;32m      1\u001b[0m \u001b[0mprint\u001b[0m\u001b[0;34m(\u001b[0m\u001b[0;34m'===='\u001b[0m\u001b[0;34m)\u001b[0m\u001b[0;34m\u001b[0m\u001b[0m\n\u001b[0;32m----> 2\u001b[0;31m \u001b[0mcoro\u001b[0m\u001b[0;34m.\u001b[0m\u001b[0msend\u001b[0m\u001b[0;34m(\u001b[0m\u001b[0;32mNone\u001b[0m\u001b[0;34m)\u001b[0m\u001b[0;34m\u001b[0m\u001b[0m\n\u001b[0m",
      "\u001b[0;31mStopIteration\u001b[0m: "
     ]
    }
   ],
   "source": [
    "print('====')\n",
    "coro.send(None)"
   ]
  },
  {
   "cell_type": "markdown",
   "metadata": {},
   "source": [
    "So now, we can write out miniloop:"
   ]
  },
  {
   "cell_type": "code",
   "execution_count": 269,
   "metadata": {
    "collapsed": true
   },
   "outputs": [],
   "source": [
    "def miniloop(corofun, *args):\n",
    "    coro = corofun(*args)\n",
    "\n",
    "    print('=== starting the coroutine ===')\n",
    "    coro.send(None)\n",
    "    print(f'=== started (0) ===')\n",
    "    for i in range(1, 1000):\n",
    "        try:\n",
    "            res = coro.send(i)\n",
    "        except StopIteration as stahp:\n",
    "            print('Stahp', stahp)\n",
    "            return \n",
    "        if res == 'INTERRUPT':\n",
    "            print(f'=== interrupt ({i+1}) ===')\n",
    "            print('If I had another task I would run it.')\n",
    "        else:\n",
    "            print(f'Unknown instruction: {res}')\n",
    "\n",
    "        \n",
    "            "
   ]
  },
  {
   "cell_type": "code",
   "execution_count": 270,
   "metadata": {
    "collapsed": true
   },
   "outputs": [],
   "source": [
    "level = 0"
   ]
  },
  {
   "cell_type": "code",
   "execution_count": 271,
   "metadata": {},
   "outputs": [
    {
     "name": "stdout",
     "output_type": "stream",
     "text": [
      " === starting the coroutine ===\n",
      " Entering  login\n",
      "     starting login.. check existence\n",
      "     Entering  user_exists\n",
      "         User exists  !\n",
      "     Leaving  user_exists\n",
      "     exists: True\n",
      "     get hash\n",
      "     start interrupt\n",
      "     === started (0) ===\n",
      "     end interrupt\n",
      "     got:  None\n",
      "     Entering  get_hash_for\n",
      "     Leaving  get_hash_for\n",
      "     start interrupt\n",
      "     === interrupt (2) ===\n",
      "     If I had another task I would run it.\n",
      "     end interrupt\n",
      "     check letter... 0     ok\n",
      "     start interrupt\n",
      "     === interrupt (3) ===\n",
      "     If I had another task I would run it.\n",
      "     end interrupt\n",
      "     check letter... 1     ok\n",
      "     start interrupt\n",
      "     === interrupt (4) ===\n",
      "     If I had another task I would run it.\n",
      "     end interrupt\n",
      "     check letter... 2     ok\n",
      "     start interrupt\n",
      "     === interrupt (5) ===\n",
      "     If I had another task I would run it.\n",
      "     end interrupt\n",
      "     check letter... 3     ok\n",
      "     Come in\n",
      " Leaving  login\n",
      " Stahp \n"
     ]
    }
   ],
   "source": [
    "miniloop(login, 'matthias', 'abcd')"
   ]
  },
  {
   "cell_type": "code",
   "execution_count": 277,
   "metadata": {
    "scrolled": false
   },
   "outputs": [
    {
     "name": "stdout",
     "output_type": "stream",
     "text": [
      " === started (0) ===\n",
      "  A 1 89\n",
      "  A 1 182\n",
      "            B 2 252\n",
      "                      C 3 258\n",
      "  A 1 265\n",
      "  A 1 353\n",
      "  A 1 441\n",
      "            B 2 504\n",
      "  A 1 527\n",
      "                      C 3 544\n",
      "  A 1 613\n",
      "  A 1 707\n",
      "                      C 3 726\n",
      "            B 2 765\n",
      "                      C 3 772\n",
      "  A 1 797\n",
      "                      C 3 811\n",
      "  A 1 891\n",
      "                      C 3 894\n",
      "                      C 3 928\n",
      "                      C 3 1027\n",
      "                      C 3 1220\n"
     ]
    },
    {
     "ename": "KeyboardInterrupt",
     "evalue": "",
     "output_type": "error",
     "traceback": [
      "\u001b[0;31m---------------------------------------------------------------------------\u001b[0m",
      "\u001b[0;31mKeyboardInterrupt\u001b[0m                         Traceback (most recent call last)",
      "\u001b[0;32m<ipython-input-277-d80824cc292e>\u001b[0m in \u001b[0;36m<module>\u001b[0;34m()\u001b[0m\n\u001b[1;32m     61\u001b[0m \u001b[0;34m\u001b[0m\u001b[0m\n\u001b[1;32m     62\u001b[0m \u001b[0;32mimport\u001b[0m \u001b[0mrandom\u001b[0m\u001b[0;34m\u001b[0m\u001b[0m\n\u001b[0;32m---> 63\u001b[0;31m \u001b[0mmultiloop\u001b[0m\u001b[0;34m(\u001b[0m\u001b[0mtaskgen\u001b[0m\u001b[0;34m(\u001b[0m\u001b[0;34m'A'\u001b[0m\u001b[0;34m,\u001b[0m \u001b[0;36m1\u001b[0m\u001b[0;34m)\u001b[0m\u001b[0;34m,\u001b[0m \u001b[0mtaskgen\u001b[0m\u001b[0;34m(\u001b[0m\u001b[0;34m'B'\u001b[0m\u001b[0;34m,\u001b[0m \u001b[0;36m3\u001b[0m\u001b[0;34m)\u001b[0m\u001b[0;34m,\u001b[0m \u001b[0mtaskgen\u001b[0m\u001b[0;34m(\u001b[0m\u001b[0;34m'C'\u001b[0m\u001b[0;34m,\u001b[0m \u001b[0;32mlambda\u001b[0m \u001b[0;34m:\u001b[0m \u001b[0mrandom\u001b[0m\u001b[0;34m.\u001b[0m\u001b[0mrandint\u001b[0m\u001b[0;34m(\u001b[0m\u001b[0;36m1\u001b[0m\u001b[0;34m,\u001b[0m\u001b[0;36m50\u001b[0m\u001b[0;34m)\u001b[0m\u001b[0;34m/\u001b[0m\u001b[0;36m10\u001b[0m\u001b[0;34m)\u001b[0m\u001b[0;34m)\u001b[0m\u001b[0;34m\u001b[0m\u001b[0m\n\u001b[0m\u001b[1;32m     64\u001b[0m \u001b[0;34m\u001b[0m\u001b[0m\n",
      "\u001b[0;32m<ipython-input-277-d80824cc292e>\u001b[0m in \u001b[0;36mmultiloop\u001b[0;34m(*coroutines_functions)\u001b[0m\n\u001b[1;32m     53\u001b[0m         \u001b[0mc\u001b[0m \u001b[0;34m=\u001b[0m \u001b[0mrandom\u001b[0m\u001b[0;34m.\u001b[0m\u001b[0mchoice\u001b[0m\u001b[0;34m(\u001b[0m\u001b[0mcoroutines\u001b[0m\u001b[0;34m)\u001b[0m\u001b[0;34m\u001b[0m\u001b[0m\n\u001b[1;32m     54\u001b[0m         \u001b[0;32mtry\u001b[0m\u001b[0;34m:\u001b[0m\u001b[0;34m\u001b[0m\u001b[0m\n\u001b[0;32m---> 55\u001b[0;31m             \u001b[0mtime\u001b[0m\u001b[0;34m.\u001b[0m\u001b[0msleep\u001b[0m\u001b[0;34m(\u001b[0m\u001b[0;36m0.01\u001b[0m\u001b[0;34m)\u001b[0m\u001b[0;34m\u001b[0m\u001b[0m\n\u001b[0m\u001b[1;32m     56\u001b[0m             \u001b[0mres\u001b[0m \u001b[0;34m=\u001b[0m \u001b[0mc\u001b[0m\u001b[0;34m.\u001b[0m\u001b[0msend\u001b[0m\u001b[0;34m(\u001b[0m\u001b[0mi\u001b[0m\u001b[0;34m)\u001b[0m\u001b[0;34m\u001b[0m\u001b[0m\n\u001b[1;32m     57\u001b[0m         \u001b[0;32mexcept\u001b[0m \u001b[0mStopIteration\u001b[0m\u001b[0;34m:\u001b[0m\u001b[0;34m\u001b[0m\u001b[0m\n",
      "\u001b[0;31mKeyboardInterrupt\u001b[0m: "
     ]
    }
   ],
   "source": [
    "import types\n",
    "import datetime\n",
    "import time\n",
    "\n",
    "\n",
    "@types.coroutine\n",
    "def interrupt():\n",
    "    return (yield 'SLEEP')\n",
    "\n",
    "@types.coroutine\n",
    "def sleep(delta):\n",
    "    \"\"\"\n",
    "    Dummy sleep, will keep yeilding until time has passed\n",
    "    \"\"\"\n",
    "\n",
    "    n= datetime.datetime.now()\n",
    "    while (datetime.datetime.now() - n).total_seconds() < delta:\n",
    "        yield 'SLEEP'\n",
    "        # actually avoid using 100% CPU and leave change to CTRLC.\n",
    "    return (yield 'RETURNED')\n",
    "    \n",
    "counter = 0\n",
    "def taskgen(name, interval):\n",
    "    global counter\n",
    "    counter +=1\n",
    "    number = counter\n",
    "    T = 10\n",
    "    async def task():\n",
    "        N = 10\n",
    "        if not callable(interval):\n",
    "            N = int(T/interval)\n",
    "            \n",
    "        for j in range(N):\n",
    "            if callable(interval):\n",
    "                res = await sleep(interval())\n",
    "            else:\n",
    "                res = await sleep(interval)\n",
    "            print(' '*10*(number-1), name, number, res)\n",
    "    return task\n",
    "        \n",
    "    \n",
    "import random\n",
    "def multiloop(*coroutines_functions):\n",
    "    coroutines = [c() for c in coroutines_functions]\n",
    "    for c in coroutines:\n",
    "        c.send(None)\n",
    "    i=-1\n",
    "    while coroutines:\n",
    "        i+=1\n",
    "        # now let's randomly advanve one of our coroutines\n",
    "        c = random.choice(coroutines)\n",
    "        try:\n",
    "            # sleep for 0.01 second in case of bug to not suck out all resources.\n",
    "            time.sleep(0.01)\n",
    "            res = c.send(i)\n",
    "        except StopIteration:\n",
    "            # if our coroutine raise stopiter, it's finished.\n",
    "            coroutines.remove(c)\n",
    "        except:\n",
    "            pass # something really wrong here.\n",
    "            \n",
    "            \n",
    "    \n",
    "\n",
    "import random\n",
    "multiloop(taskgen('A', 1), taskgen('B', 3), taskgen('C', lambda : random.randint(1,50)/10))        \n",
    "    "
   ]
  },
  {
   "cell_type": "code",
   "execution_count": 308,
   "metadata": {},
   "outputs": [],
   "source": [
    "pingpong = True\n",
    "\n",
    "def pp(name, state):\n",
    "    async def _ping():\n",
    "        \"\"\"Sleep randomly print PING, and change value of ping. Loop at most 10 times.\"\"\"\n",
    "        global pingpong\n",
    "        for i in range(10):\n",
    "            while pingpong is state:\n",
    "                await sleep(0)\n",
    "            print(name ,i)\n",
    "            await sleep(random.randint(5,15)/10)\n",
    "            pingpong = state\n",
    "\n",
    "    return _ping\n"
   ]
  },
  {
   "cell_type": "code",
   "execution_count": null,
   "metadata": {
    "collapsed": true
   },
   "outputs": [],
   "source": []
  },
  {
   "cell_type": "code",
   "execution_count": 311,
   "metadata": {},
   "outputs": [
    {
     "name": "stdout",
     "output_type": "stream",
     "text": [
      "     PONG 0\n",
      " === started (0) ===\n",
      " PING 0\n",
      "     PONG 1\n",
      " PING 1\n",
      "     PONG 2\n",
      " PING 2\n",
      "     PONG 3\n",
      " PING 3\n",
      "     PONG 4\n",
      " PING 4\n",
      "     PONG 5\n",
      " PING 5\n",
      "     PONG 6\n",
      " PING 6\n",
      "     PONG 7\n",
      " PING 7\n",
      "     PONG 8\n",
      " PING 8\n",
      "     PONG 9\n",
      " PING 9\n",
      " === started (0) ===\n",
      "                                                                                                                          TIC 13 170\n",
      "                                                                                                                                     TOC 14 258\n",
      "                                                                                                                          TIC 13 342\n",
      "                                                                                                                                     TOC 14 430\n",
      "                                                                                                                          TIC 13 524\n",
      "                                                                                                                                     TOC 14 604\n",
      "                                                                                                                          TIC 13 698\n",
      "                                                                                                                                     TOC 14 778\n",
      "                                                                                                                          TIC 13 873\n",
      "                                                                                                                                     TOC 14 955\n"
     ]
    }
   ],
   "source": [
    "level = 0 \n",
    "async  def off():\n",
    "    await sleep(1)\n",
    "    await taskgen(' TOC', 2)()\n",
    "multiloop(pp('PING', True), pp('    PONG', False))\n",
    "          \n",
    "multiloop(taskgen('TIC', 2), off )"
   ]
  },
  {
   "cell_type": "code",
   "execution_count": null,
   "metadata": {
    "collapsed": true
   },
   "outputs": [],
   "source": []
  }
 ],
 "metadata": {
  "kernelspec": {
   "display_name": "Python 3",
   "language": "python",
   "name": "python3"
  },
  "language_info": {
   "codemirror_mode": {
    "name": "ipython",
    "version": 3
   },
   "file_extension": ".py",
   "mimetype": "text/x-python",
   "name": "python",
   "nbconvert_exporter": "python",
   "pygments_lexer": "ipython3",
   "version": "3.6.0"
  }
 },
 "nbformat": 4,
 "nbformat_minor": 2
}
